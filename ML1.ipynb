{
  "nbformat": 4,
  "nbformat_minor": 0,
  "metadata": {
    "colab": {
      "provenance": []
    },
    "kernelspec": {
      "name": "python3",
      "display_name": "Python 3"
    },
    "language_info": {
      "name": "python"
    }
  },
  "cells": [
    {
      "cell_type": "code",
      "execution_count": null,
      "metadata": {
        "id": "uR2PWnpAJQjU"
      },
      "outputs": [],
      "source": [
        "def countvowelsandconst(word):\n",
        "  vowels=\"aeiouAEIOU\"\n",
        "  const=\"bcdfghjklmnpqrstvwxyzBCDFGHJKLMNPQRSTVWXYZ\"\n",
        "  countv=0\n",
        "  countc=0\n",
        "  for letter in word:\n",
        "    if letter in vowels:\n",
        "      countv=countv+1\n",
        "    if letter in const:\n",
        "      countc=countc+1\n",
        "\n",
        "  return countv, countc"
      ]
    },
    {
      "cell_type": "code",
      "source": [
        "word = \"dheeraj\"\n",
        "countvowelsandconst(word)"
      ],
      "metadata": {
        "colab": {
          "base_uri": "https://localhost:8080/"
        },
        "id": "jK9LwOoUKDL_",
        "outputId": "60b5b48b-7f37-451f-a919-2c4972c176b0"
      },
      "execution_count": null,
      "outputs": [
        {
          "output_type": "execute_result",
          "data": {
            "text/plain": [
              "(3, 4)"
            ]
          },
          "metadata": {},
          "execution_count": 4
        }
      ]
    },
    {
      "cell_type": "code",
      "source": [
        "def matrixmul(m1, m2):\n",
        "    result = []\n",
        "    if len(m1[0]) != len(m2):\n",
        "        print(\"Matrix multiplication is not possible\")\n",
        "        return None\n",
        "    for i in range(len(m1)):\n",
        "        row = []\n",
        "        for j in range(len(m2[0])):\n",
        "            e = 0\n",
        "            for k in range(len(m2)):\n",
        "                e += m1[i][k] * m2[k][j]\n",
        "            row.append(e)\n",
        "        result.append(row)\n",
        "    return result"
      ],
      "metadata": {
        "id": "1oI_6iGPKF5t"
      },
      "execution_count": null,
      "outputs": []
    },
    {
      "cell_type": "code",
      "source": [
        "m1=[[1],[2],[3]]\n",
        "m2=[[1,2],[3,4]]\n",
        "matrixmul(m1,m2)"
      ],
      "metadata": {
        "colab": {
          "base_uri": "https://localhost:8080/"
        },
        "id": "m-EakAcPKLLP",
        "outputId": "cc5faade-2d0d-4e5d-9d45-0db9f7c9f1ce"
      },
      "execution_count": null,
      "outputs": [
        {
          "output_type": "stream",
          "name": "stdout",
          "text": [
            "Matrix multiplication is not possible\n"
          ]
        }
      ]
    },
    {
      "cell_type": "code",
      "source": [
        "def commonele(l1,l2):\n",
        "  c=0\n",
        "  for e in l1 and l2:\n",
        "    if e in l1 and l2:\n",
        "     c=c+1\n",
        "  return c"
      ],
      "metadata": {
        "id": "Cbg-3rkZKOVP"
      },
      "execution_count": null,
      "outputs": []
    },
    {
      "cell_type": "code",
      "source": [
        "l1=[12,2,3,4,5,6]\n",
        "l2=[1,2,3,4,5,6]\n",
        "print(\"Count of common elements is/are\")\n",
        "commonele(l1,l2)"
      ],
      "metadata": {
        "colab": {
          "base_uri": "https://localhost:8080/"
        },
        "id": "_qTJaQx2KWOH",
        "outputId": "e63b58f0-72ee-47a7-a0a8-8a216feb28d4"
      },
      "execution_count": null,
      "outputs": [
        {
          "output_type": "stream",
          "name": "stdout",
          "text": [
            "Count of common elements is/are\n"
          ]
        },
        {
          "output_type": "execute_result",
          "data": {
            "text/plain": [
              "5"
            ]
          },
          "metadata": {},
          "execution_count": 7
        }
      ]
    },
    {
      "cell_type": "code",
      "source": [
        "def transpose(m):\n",
        "  t=[]\n",
        "  for i in range(len(m[0])):\n",
        "    row=[]\n",
        "    for j in range(len(m)):\n",
        "      row.append(m[j][i])\n",
        "    t.append(row)\n",
        "  return t"
      ],
      "metadata": {
        "id": "eDhRR2DoKXLJ"
      },
      "execution_count": null,
      "outputs": []
    },
    {
      "cell_type": "code",
      "source": [
        "matrix = [\n",
        "    [1, 2, 3],\n",
        "    [4, 5, 6],\n",
        "    [7, 8, 9]\n",
        "]\n",
        "transpose(matrix)"
      ],
      "metadata": {
        "id": "bEokM60UKeCF",
        "outputId": "bfbcd861-5cf0-4863-c343-051a91222135",
        "colab": {
          "base_uri": "https://localhost:8080/"
        }
      },
      "execution_count": null,
      "outputs": [
        {
          "output_type": "execute_result",
          "data": {
            "text/plain": [
              "[[1, 4, 7], [2, 5, 8], [3, 6, 9]]"
            ]
          },
          "metadata": {},
          "execution_count": 9
        }
      ]
    }
  ]
}